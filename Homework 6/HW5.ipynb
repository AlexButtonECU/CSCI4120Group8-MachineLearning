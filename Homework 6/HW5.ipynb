{
 "cells": [
  {
   "cell_type": "markdown",
   "metadata": {},
   "source": [
    "# Homework 6\n",
    "You need to classify digits with SVM models in this homework. Use PCA to reduce data dimensionality (80% information remain). Compare performance of linear, radial, and polynomial kernals. Tune kernal parameters using Randomsearch method."
   ]
  },
  {
   "cell_type": "code",
   "execution_count": 37,
   "metadata": {},
   "outputs": [
    {
     "name": "stdout",
     "output_type": "stream",
     "text": [
      "{'kernel': 'linear', 'C': 0.5} Best Score: 0.9476973073351903\n",
      "{'kernel': 'poly', 'gamma': 'scale', 'degree': 3, 'C': 1} Best Score: 0.9705106778087279\n",
      "{'kernel': 'rbf', 'gamma': 'scale', 'C': 7} Best Score: 0.974405756731662\n",
      "After PCA: {'svc__kernel': 'linear', 'svc__C': 0.5} Best Score: 0.9154302073661406\n",
      "After PCA: {'svc__kernel': 'poly', 'svc__gamma': 'scale', 'svc__degree': 3, 'svc__C': 9} Best Score: 0.9488300835654597\n",
      "After PCA: {'svc__kernel': 'rbf', 'svc__gamma': 'scale', 'svc__C': 2} Best Score: 0.9666233364283503\n"
     ]
    }
   ],
   "source": [
    "%matplotlib inline\n",
    "import numpy as np\n",
    "import matplotlib.pyplot as plt\n",
    "from scipy import stats\n",
    "from sklearn.svm import SVC\n",
    "from sklearn.decomposition import PCA\n",
    "from sklearn.model_selection import RandomizedSearchCV\n",
    "from sklearn.pipeline import make_pipeline\n",
    "\n",
    "# use seaborn plotting defaults\n",
    "import seaborn as sns; sns.set()\n",
    "from sklearn import datasets, svm, metrics\n",
    "\n",
    "# The digits dataset\n",
    "digits = datasets.load_digits()\n",
    "\n",
    "def plot_digits(data):\n",
    "    fig, axes = plt.subplots(4, 10, figsize=(10, 4),\n",
    "                             subplot_kw={'xticks':[], 'yticks':[]},\n",
    "                             gridspec_kw=dict(hspace=0.1, wspace=0.1))\n",
    "    for i, ax in enumerate(axes.flat):\n",
    "        ax.imshow(data[i].reshape(8, 8),\n",
    "                  cmap='binary', interpolation='nearest',\n",
    "                  clim=(0, 16))\n",
    "#plot_digits(digits.data)\n",
    "\n",
    "# SVM model\n",
    "model = SVC()\n",
    "# Linear\n",
    "parameters = {'C': [0.5,1,2,3,4,5,6,7,8,9,10],\n",
    "              'kernel': ['linear']}\n",
    "randSearchCV = RandomizedSearchCV(model, parameters, n_iter=11, cv=5, n_jobs=-1)\n",
    "search = randSearchCV.fit(digits.data, digits.target)\n",
    "print(search.best_params_, \"Best Score:\", search.best_score_)\n",
    "\n",
    "# Poly\n",
    "parameters = {'C': [0.5,1,2,3,4,5,6,7,8,9,10],\n",
    "              'kernel': ['poly'],\n",
    "              'degree': [0,1,2,3,4,5,6,7,8,9,10],\n",
    "              'gamma': ['scale', 'auto']}\n",
    "randSearchCV = RandomizedSearchCV(model, parameters, n_iter=100, cv=5, n_jobs=-1)\n",
    "search = randSearchCV.fit(digits.data, digits.target)\n",
    "print(search.best_params_, \"Best Score:\", search.best_score_)\n",
    "\n",
    "# RBF\n",
    "parameters = {'C': [0.5,1,2,3,4,5,6,7,8,9,10],\n",
    "              'kernel': ['rbf'],\n",
    "              'gamma': ['scale', 'auto']}\n",
    "randSearchCV = RandomizedSearchCV(model, parameters, n_iter=22, cv=5, n_jobs=-1)\n",
    "search = randSearchCV.fit(digits.data, digits.target)\n",
    "print(search.best_params_, \"Best Score:\", search.best_score_)\n",
    "\n",
    "# PCA analysis\n",
    "pca = PCA(0.8)\n",
    "\n",
    "# Fitting SVC again here -----------------------------------------\n",
    "svc = SVC(kernel='poly')\n",
    "newModel = make_pipeline(pca, svc)\n",
    "\n",
    "# Linear\n",
    "parameters = {'svc__C': [0.5,1,2,3,4,5,6,7,8,9,10],\n",
    "              'svc__kernel': ['linear']}\n",
    "randSearchCV = RandomizedSearchCV(newModel, parameters, n_iter=11, cv=5, n_jobs=-1)\n",
    "search = randSearchCV.fit(digits.data, digits.target)\n",
    "print(\"After PCA:\", search.best_params_ , \"Best Score:\", search.best_score_)\n",
    "\n",
    "# Poly\n",
    "parameters = {'svc__C': [0.5,1,2,3,4,5,6,7,8,9,10],\n",
    "              'svc__kernel': ['poly'],\n",
    "              'svc__degree': [0,1,2,3,4,5,6,7,8,9,10],\n",
    "              'svc__gamma': ['scale', 'auto']}\n",
    "randSearchCV = RandomizedSearchCV(newModel, parameters, n_iter=100, cv=5, n_jobs=-1)\n",
    "search = randSearchCV.fit(digits.data, digits.target)\n",
    "print(\"After PCA:\", search.best_params_, \"Best Score:\", search.best_score_)\n",
    "\n",
    "# RBF\n",
    "parameters = {'svc__C': [0.5,1,2,3,4,5,6,7,8,9,10],\n",
    "              'svc__kernel': ['rbf'],\n",
    "              'svc__gamma': ['scale', 'auto']}\n",
    "randSearchCV = RandomizedSearchCV(newModel, parameters, n_iter=22, cv=5, n_jobs=-1)\n",
    "search = randSearchCV.fit(digits.data, digits.target)\n",
    "print(\"After PCA:\", search.best_params_, \"Best Score:\", search.best_score_)\n",
    "\n",
    "\n",
    "\n"
   ]
  },
  {
   "cell_type": "code",
   "execution_count": null,
   "metadata": {},
   "outputs": [],
   "source": []
  }
 ],
 "metadata": {
  "kernelspec": {
   "display_name": "Python 3 (ipykernel)",
   "language": "python",
   "name": "python3"
  },
  "language_info": {
   "codemirror_mode": {
    "name": "ipython",
    "version": 3
   },
   "file_extension": ".py",
   "mimetype": "text/x-python",
   "name": "python",
   "nbconvert_exporter": "python",
   "pygments_lexer": "ipython3",
   "version": "3.9.12"
  }
 },
 "nbformat": 4,
 "nbformat_minor": 2
}
